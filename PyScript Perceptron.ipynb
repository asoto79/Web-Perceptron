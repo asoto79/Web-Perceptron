{
 "cells": [
  {
   "cell_type": "markdown",
   "id": "d189eb71",
   "metadata": {},
   "source": [
    "## Necessary Libraries"
   ]
  },
  {
   "cell_type": "code",
   "execution_count": 3,
   "id": "2a323120",
   "metadata": {},
   "outputs": [],
   "source": [
    "import numpy as np\n",
    "import ipywidgets as widgets\n",
    "from IPython.display import display, clear_output"
   ]
  },
  {
   "cell_type": "markdown",
   "id": "da995574",
   "metadata": {},
   "source": [
    "## Perceptron"
   ]
  },
  {
   "cell_type": "code",
   "execution_count": 4,
   "id": "b953562d",
   "metadata": {},
   "outputs": [],
   "source": [
    "class Perceptron:\n",
    "    def __init__(self, input_size, lr=0.1):\n",
    "        self.weights = np.random.randn(input_size)\n",
    "        self.bias = np.random.randn()\n",
    "        self.lr = lr\n",
    "\n",
    "    def activation(self, x):\n",
    "        return 1 if x >= 0 else 0\n",
    "\n",
    "    def predict(self, x):\n",
    "        summation = np.dot(x, self.weights) + self.bias\n",
    "        return self.activation(summation)\n",
    "\n",
    "    def train(self, training_inputs, labels, epochs=50):\n",
    "        for _ in range(epochs):\n",
    "            for x, y in zip(training_inputs, labels):\n",
    "                pred = self.predict(x)\n",
    "                error = y - pred\n",
    "                self.weights += self.lr * error * np.array(x)\n",
    "                self.bias += self.lr * error"
   ]
  },
  {
   "cell_type": "markdown",
   "id": "8113cff2",
   "metadata": {},
   "source": [
    "## Perceptron Training"
   ]
  },
  {
   "cell_type": "code",
   "execution_count": 5,
   "id": "9d286781",
   "metadata": {},
   "outputs": [],
   "source": [
    "# Define \"T\" shape (0) and \"L\" shape (1)\n",
    "T_shape = [\n",
    "    0, 1, 1, 1,\n",
    "    0, 0, 1, 0,\n",
    "    0, 0, 1, 0,\n",
    "    0, 0, 1, 0\n",
    "]\n",
    "\n",
    "L_shape = [\n",
    "    1, 0, 0, 0,\n",
    "    1, 0, 0, 0,\n",
    "    1, 0, 0, 0,\n",
    "    1, 1, 1, 1\n",
    "]\n",
    "\n",
    "training_inputs = [T_shape, L_shape]\n",
    "labels = [0, 1]  # 0 = T, 1 = L\n",
    "\n",
    "# Create and train the perceptron\n",
    "perceptron = Perceptron(input_size=16, lr=0.1)\n",
    "perceptron.train(training_inputs, labels, epochs=50)"
   ]
  },
  {
   "cell_type": "markdown",
   "id": "65c6f803",
   "metadata": {},
   "source": [
    "## Grid Code"
   ]
  },
  {
   "cell_type": "code",
   "execution_count": 6,
   "id": "48a1892b",
   "metadata": {},
   "outputs": [
    {
     "data": {
      "application/vnd.jupyter.widget-view+json": {
       "model_id": "d06f192c4f4a4a1a8b1247df1c68b983",
       "version_major": 2,
       "version_minor": 0
      },
      "text/plain": [
       "VBox(children=(HBox(children=(Dropdown(layout=Layout(width='50px'), options=(('0', 0), ('1', 1)), value=0), Dr…"
      ]
     },
     "metadata": {},
     "output_type": "display_data"
    },
    {
     "data": {
      "application/vnd.jupyter.widget-view+json": {
       "model_id": "ce997008a1d441489042a63751201afc",
       "version_major": 2,
       "version_minor": 0
      },
      "text/plain": [
       "Button(description='Predict', style=ButtonStyle())"
      ]
     },
     "metadata": {},
     "output_type": "display_data"
    },
    {
     "data": {
      "application/vnd.jupyter.widget-view+json": {
       "model_id": "821b0868798d461c84dc4cca60ec8041",
       "version_major": 2,
       "version_minor": 0
      },
      "text/plain": [
       "Output()"
      ]
     },
     "metadata": {},
     "output_type": "display_data"
    }
   ],
   "source": [
    "# Create a 4x4 grid of dropdowns\n",
    "grid_dropdowns = [[widgets.Dropdown(\n",
    "    options=[(\"0\", 0), (\"1\", 1)], \n",
    "    value=0, \n",
    "    layout=widgets.Layout(width='50px')) \n",
    "    for _ in range(4)] for _ in range(4)]\n",
    "\n",
    "# Convert 2D list to display as a grid\n",
    "grid_ui = widgets.VBox([widgets.HBox(row) for row in grid_dropdowns])\n",
    "\n",
    "# Output widget for prediction\n",
    "output = widgets.Output()\n",
    "\n",
    "# Function to get grid data\n",
    "def get_grid_data():\n",
    "    return [cell.value for row in grid_dropdowns for cell in row]\n",
    "\n",
    "# Function to predict using the perceptron\n",
    "def predict_grid(_):\n",
    "    grid_data = get_grid_data()\n",
    "    prediction = perceptron.predict(grid_data)\n",
    "    shape = \"L Shape\" if prediction == 1 else \"T Shape\"\n",
    "    \n",
    "    with output:\n",
    "        clear_output(wait=True)\n",
    "        print(f\"Prediction: {shape}\")\n",
    "\n",
    "# Predict button\n",
    "predict_button = widgets.Button(description=\"Predict\")\n",
    "predict_button.on_click(predict_grid)\n",
    "\n",
    "# Display UI elements\n",
    "display(grid_ui, predict_button, output)\n"
   ]
  },
  {
   "cell_type": "code",
   "execution_count": null,
   "id": "242d0f22",
   "metadata": {},
   "outputs": [],
   "source": []
  }
 ],
 "metadata": {
  "kernelspec": {
   "display_name": "Python 3 (ipykernel)",
   "language": "python",
   "name": "python3"
  },
  "language_info": {
   "codemirror_mode": {
    "name": "ipython",
    "version": 3
   },
   "file_extension": ".py",
   "mimetype": "text/x-python",
   "name": "python",
   "nbconvert_exporter": "python",
   "pygments_lexer": "ipython3",
   "version": "3.7.16"
  }
 },
 "nbformat": 4,
 "nbformat_minor": 5
}
